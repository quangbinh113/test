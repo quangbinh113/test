{
 "cells": [
  {
   "cell_type": "code",
   "execution_count": 26,
   "metadata": {},
   "outputs": [
    {
     "name": "stdout",
     "output_type": "stream",
     "text": [
      "['88727858', 'dLrIrEaovi', 'Wellington Rd Clayton', 'VIC3168', '(8.8', '14.2)', \"['BY962504\", 'zSyOgLqCHc', '7', '262', '2422', \"RWD'\", \"'MF852547\", 'RYjEUsOSQa', '6', '193', '2640', \"AWD'\", \"'ZK215141\", 'TKdjbRaLvPi', '15', '248', '2708', \"AWD'\", \"'MD735325\", 'imGniJhZOMg', '14', '140', '2279', \"AWD']\"]\n",
      "88727858\n",
      "AWD']\n",
      "['26849228', 'MnWpvvwwOu', 'Wellington Rd Clayton', 'VIC3168', '(11.1', '13.4)', \"['LN807267\", 'pnXfiQAbaG', '20', '222', '2180', \"RWD'\", \"'DF763895\", 'mQhDqmMAKmlxLeZmXeM', '20', '174', '2507', \"RWD'\", \"'KX569985\", 'fmTfzyROdCens', '20', '187', '1526', \"FWD'\", \"'CI501910\", 'lQZahqBaOKkeaA', '18', '220', '1743', \"FWD']\"]\n",
      "26849228\n",
      "FWD']\n",
      "['97167616', 'KQTXjYQcOU', 'Clayton Rd Mount Waverley', 'VIC3170', '(9.6', '16.5)', \"['NT223476\", 'WwatgvkdzAR', '20', '182', '1566', \"RWD'\", \"'QF455435\", 'DuzxyJcwCV', '6', '145', '2800', \"AWD'\", \"'LG061491\", 'UxHUqMARNJN', '9', '169', '2360', \"RWD']\"]\n",
      "97167616\n",
      "RWD']\n"
     ]
    }
   ],
   "source": [
    "retailer_id = 88727858\n",
    "with open(r'C:\\Users\\binh.truong\\Code\\asignment\\data\\stock.txt', 'r') as f:\n",
    "    lines = f.readlines()\n",
    "    for line in lines:\n",
    "        detail = line.strip().split(', ')\n",
    "        print(detail)\n",
    "        print(detail[0])\n",
    "        print(detail[-1])\n",
    "        if detail[0] == retailer_id:\n",
    "            available_cars = detail[-1]\n",
    "            print(available_cars)\n",
    "            carretailer_stock = [car.split(', ')[0] for car in available_cars]\n",
    "            print(carretailer_stock)"
   ]
  },
  {
   "cell_type": "code",
   "execution_count": null,
   "metadata": {},
   "outputs": [],
   "source": []
  }
 ],
 "metadata": {
  "kernelspec": {
   "display_name": "Python 3",
   "language": "python",
   "name": "python3"
  },
  "language_info": {
   "codemirror_mode": {
    "name": "ipython",
    "version": 3
   },
   "file_extension": ".py",
   "mimetype": "text/x-python",
   "name": "python",
   "nbconvert_exporter": "python",
   "pygments_lexer": "ipython3",
   "version": "3.10.0rc2"
  },
  "orig_nbformat": 4
 },
 "nbformat": 4,
 "nbformat_minor": 2
}
