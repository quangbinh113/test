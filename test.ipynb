{
 "cells": [
  {
   "cell_type": "code",
   "execution_count": 2,
   "metadata": {},
   "outputs": [
    {
     "name": "stdout",
     "output_type": "stream",
     "text": [
      "['88727858', 'dLrIrEaovi', 'Wellington Rd Clayton', 'VIC3168', '(8.8', '14.2)', \"['BY962504\", 'zSyOgLqCHc', '7', '262', '2422', \"RWD'\", \"'MF852547\", 'RYjEUsOSQa', '6', '193', '2640', \"AWD'\", \"'ZK215141\", 'TKdjbRaLvPi', '15', '248', '2708', \"AWD'\", \"'MD735325\", 'imGniJhZOMg', '14', '140', '2279', \"AWD']\"]\n",
      "['26849228', 'MnWpvvwwOu', 'Wellington Rd Clayton', 'VIC3168', '(11.1', '13.4)', \"['LN807267\", 'pnXfiQAbaG', '20', '222', '2180', \"RWD'\", \"'DF763895\", 'mQhDqmMAKmlxLeZmXeM', '20', '174', '2507', \"RWD'\", \"'KX569985\", 'fmTfzyROdCens', '20', '187', '1526', \"FWD'\", \"'CI501910\", 'lQZahqBaOKkeaA', '18', '220', '1743', \"FWD']\"]\n",
      "['97167616', 'KQTXjYQcOU', 'Clayton Rd Mount Waverley', 'VIC3170', '(9.6', '16.5)', \"['NT223476\", 'WwatgvkdzAR', '20', '182', '1566', \"RWD'\", \"'QF455435\", 'DuzxyJcwCV', '6', '145', '2800', \"AWD'\", \"'LG061491\", 'UxHUqMARNJN', '9', '169', '2360', \"RWD']\"]\n"
     ]
    }
   ],
   "source": [
    "retailer_id = 88727858\n",
    "with open(r'E:\\assignment\\test\\data\\stock.txt', 'r') as f:\n",
    "    lines = f.readlines()\n",
    "    for line in lines:\n",
    "        detail = line.strip().split(', ')\n",
    "        print(detail)\n",
    "        # print(detail[0])\n",
    "        # print(detail[-1])\n"
   ]
  },
  {
   "cell_type": "code",
   "execution_count": null,
   "metadata": {},
   "outputs": [],
   "source": [
    "['BY962504, zSyOgLqCHc, 7, 262, 2422, RWD', 'MF852547, RYjEUsOSQa, 6, 193, 2640, AWD', 'ZK215141, TKdjbRaLvPi, 15, 248, 2708, AWD', 'MD735325, imGniJhZOMg, 14, 140, 2279, AWD']"
   ]
  },
  {
   "cell_type": "code",
   "execution_count": 5,
   "metadata": {},
   "outputs": [
    {
     "data": {
      "text/plain": [
       "([\"['BY962504\",\n",
       "  'zSyOgLqCHc',\n",
       "  '7',\n",
       "  '262',\n",
       "  '2422',\n",
       "  \"RWD'\",\n",
       "  \"'MF852547\",\n",
       "  'RYjEUsOSQa',\n",
       "  '6',\n",
       "  '193',\n",
       "  '2640',\n",
       "  \"AWD'\",\n",
       "  \"'ZK215141\",\n",
       "  'TKdjbRaLvPi',\n",
       "  '15',\n",
       "  '248',\n",
       "  '2708',\n",
       "  \"AWD'\",\n",
       "  \"'MD735325\",\n",
       "  'imGniJhZOMg',\n",
       "  '14',\n",
       "  '140',\n",
       "  '2279',\n",
       "  \"AWD']\"],\n",
       " '88727858')"
      ]
     },
     "execution_count": 5,
     "metadata": {},
     "output_type": "execute_result"
    }
   ],
   "source": [
    "string = \"88727858, dLrIrEaovi, Wellington Rd Clayton, VIC3168, (8.8, 14.2), ['BY962504, zSyOgLqCHc, 7, 262, 2422, RWD', 'MF852547, RYjEUsOSQa, 6, 193, 2640, AWD', 'ZK215141, TKdjbRaLvPi, 15, 248, 2708, AWD', 'MD735325, imGniJhZOMg, 14, 140, 2279, AWD']\"\n",
    "\n",
    "arr = string.strip().split(', ')\n",
    "arr[6:], arr[0]"
   ]
  },
  {
   "cell_type": "code",
   "execution_count": 6,
   "metadata": {},
   "outputs": [
    {
     "ename": "SyntaxError",
     "evalue": "invalid syntax. Perhaps you forgot a comma? (193379956.py, line 2)",
     "output_type": "error",
     "traceback": [
      "\u001b[1;36m  Cell \u001b[1;32mIn[6], line 2\u001b[1;36m\u001b[0m\n\u001b[1;33m    retailer1: [[car1], [car2], [car3]...],\u001b[0m\n\u001b[1;37m                                ^\u001b[0m\n\u001b[1;31mSyntaxError\u001b[0m\u001b[1;31m:\u001b[0m invalid syntax. Perhaps you forgot a comma?\n"
     ]
    }
   ],
   "source": [
    "dict = {\n",
    "    retailer1: [[car1], [car2], [car3]...],\n",
    "}"
   ]
  },
  {
   "cell_type": "code",
   "execution_count": 7,
   "metadata": {},
   "outputs": [
    {
     "data": {
      "text/plain": [
       "['88727858',\n",
       " 'dLrIrEaovi',\n",
       " 'Wellington Rd Clayton',\n",
       " 'VIC3168',\n",
       " '(8.8',\n",
       " '14.2)',\n",
       " \"['BY962504\",\n",
       " 'zSyOgLqCHc',\n",
       " '7',\n",
       " '262',\n",
       " '2422',\n",
       " \"RWD'\",\n",
       " \"'MF852547\",\n",
       " 'RYjEUsOSQa',\n",
       " '6',\n",
       " '193',\n",
       " '2640',\n",
       " \"AWD'\",\n",
       " \"'ZK215141\",\n",
       " 'TKdjbRaLvPi',\n",
       " '15',\n",
       " '248',\n",
       " '2708',\n",
       " \"AWD'\",\n",
       " \"'MD735325\",\n",
       " 'imGniJhZOMg',\n",
       " '14',\n",
       " '140',\n",
       " '2279',\n",
       " \"AWD']\"]"
      ]
     },
     "execution_count": 7,
     "metadata": {},
     "output_type": "execute_result"
    }
   ],
   "source": [
    "arr"
   ]
  },
  {
   "cell_type": "code",
   "execution_count": 28,
   "metadata": {},
   "outputs": [
    {
     "data": {
      "text/plain": [
       "{88727858: [['BY962504', 'zSyOgLqCHc', '7', '262', '2422', 'RWD'],\n",
       "  ['MF852547', 'RYjEUsOSQa', '6', '193', '2640', 'AWD'],\n",
       "  ['ZK215141', 'TKdjbRaLvPi', '15', '248', '2708', 'AWD'],\n",
       "  ['MD735325', 'imGniJhZOMg', '14', '140', '2279', 'AWD']],\n",
       " 26849228: [['BY962504', 'zSyOgLqCHc', '7', '262', '2422', 'RWD'],\n",
       "  ['MF852547', 'RYjEUsOSQa', '6', '193', '2640', 'AWD'],\n",
       "  ['ZK215141', 'TKdjbRaLvPi', '15', '248', '2708', 'AWD'],\n",
       "  ['MD735325', 'imGniJhZOMg', '14', '140', '2279', 'AWD']],\n",
       " 97167616: [['BY962504', 'zSyOgLqCHc', '7', '262', '2422', 'RWD'],\n",
       "  ['MF852547', 'RYjEUsOSQa', '6', '193', '2640', 'AWD'],\n",
       "  ['ZK215141', 'TKdjbRaLvPi', '15', '248', '2708', 'AWD']]}"
      ]
     },
     "execution_count": 28,
     "metadata": {},
     "output_type": "execute_result"
    }
   ],
   "source": [
    "with open(r'E:\\assignment\\test\\data\\stock.txt', 'r') as f:\n",
    "    lines = f.readlines()\n",
    "    dic = {}\n",
    "    for line in lines:\n",
    "        detail = line.strip().split(', ')\n",
    "        key = int(detail[0])\n",
    "        dic[key] = []\n",
    "        lst = detail[6:]\n",
    "        for i in range(0, len(lst), 6):\n",
    "            car_info = arr[6:][i:i+6]\n",
    "            res = []\n",
    "            for val in car_info:\n",
    "                res.append(val.replace('[', '').replace(']', '').replace(\"'\", ''))\n",
    "            dic[key].append(res)\n",
    "dic"
   ]
  },
  {
   "cell_type": "code",
   "execution_count": 50,
   "metadata": {},
   "outputs": [
    {
     "data": {
      "text/plain": [
       "['BY962504', 'MF852547', 'ZK215141', 'MD735325']"
      ]
     },
     "execution_count": 50,
     "metadata": {},
     "output_type": "execute_result"
    }
   ],
   "source": [
    "id = 88727858\n",
    "res = []\n",
    "for key, val in dic.items():\n",
    "    if key == id:\n",
    "        for car in val:\n",
    "            res.append(car[0])\n",
    "\n",
    "res\n"
   ]
  },
  {
   "cell_type": "code",
   "execution_count": 24,
   "metadata": {},
   "outputs": [],
   "source": [
    "dic = { \n",
    "    'a': [1, 2, 3, 4, 5], \n",
    "    'b': [6, 5, 4, 3,2], \n",
    "    'c': [76, 45, 34, 23,21] \n",
    "}\n"
   ]
  },
  {
   "cell_type": "code",
   "execution_count": 25,
   "metadata": {},
   "outputs": [
    {
     "data": {
      "text/plain": [
       "{'a': [1, 2, 3, 4, 5, 6], 'b': [6, 5, 4, 3, 2], 'c': [76, 45, 34, 23, 21]}"
      ]
     },
     "execution_count": 25,
     "metadata": {},
     "output_type": "execute_result"
    }
   ],
   "source": [
    "dic['a'].append(6)\n",
    "dic"
   ]
  },
  {
   "cell_type": "code",
   "execution_count": 29,
   "metadata": {},
   "outputs": [
    {
     "data": {
      "text/plain": [
       "str"
      ]
     },
     "execution_count": 29,
     "metadata": {},
     "output_type": "execute_result"
    }
   ],
   "source": [
    "PATH = r'E:\\assignment\\test\\data\\stock.txt'\n",
    "type(PATH)"
   ]
  },
  {
   "cell_type": "code",
   "execution_count": 44,
   "metadata": {},
   "outputs": [],
   "source": [
    "def ABC(str, integer=123, list=[]):\n",
    "    print(str, integer, list)"
   ]
  },
  {
   "cell_type": "code",
   "execution_count": 46,
   "metadata": {},
   "outputs": [
    {
     "name": "stdout",
     "output_type": "stream",
     "text": [
      "abc 123 [1, 2, 3]\n"
     ]
    }
   ],
   "source": [
    "ABC('abc', 123, [1, 2, 3])"
   ]
  },
  {
   "cell_type": "code",
   "execution_count": 1,
   "metadata": {},
   "outputs": [],
   "source": [
    "import numpy as np\n",
    "import random"
   ]
  },
  {
   "cell_type": "code",
   "execution_count": 1,
   "metadata": {},
   "outputs": [
    {
     "data": {
      "text/plain": [
       "[2, 4, 6, 8]"
      ]
     },
     "execution_count": 1,
     "metadata": {},
     "output_type": "execute_result"
    }
   ],
   "source": [
    "arr = [1, 2, 3, 4, 5, 6, 7, 8, 9]\n",
    "res = []\n",
    "for i in arr:\n",
    "    if  i % 2 ==0:\n",
    "        res.append(i)\n",
    "res\n"
   ]
  },
  {
   "cell_type": "code",
   "execution_count": 4,
   "metadata": {},
   "outputs": [
    {
     "data": {
      "text/plain": [
       "[False, True, False, True, False, True, False, True, False]"
      ]
     },
     "execution_count": 4,
     "metadata": {},
     "output_type": "execute_result"
    }
   ],
   "source": [
    "res = [True if i % 2 == 0 else False for i in arr]\n",
    "res"
   ]
  },
  {
   "cell_type": "code",
   "execution_count": 5,
   "metadata": {},
   "outputs": [],
   "source": [
    "def format_file(path: str) -> dict:\n",
    "        try:\n",
    "            with open(path, 'r') as f:\n",
    "                lines = f.readlines()\n",
    "                dic = {}\n",
    "                for line in lines:\n",
    "                    detail = line.strip().split(', ')\n",
    "                    key = ', '.join(detail[:6])\n",
    "                    # key = int(detail[0])\n",
    "                    dic[key] = []\n",
    "                    lst = detail[6:]\n",
    "                    for i in range(0, len(lst), 6):\n",
    "                        car_info = lst[i:i + 6]\n",
    "                        res = []\n",
    "                        for val in car_info:\n",
    "                            res.append(val.replace('[', '').replace(']', '').replace(\"'\", ''))\n",
    "                        dic[key].append(res)\n",
    "            return dic\n",
    "        except FileNotFoundError:\n",
    "            print(f\"Error: File '{path}' not found.\")"
   ]
  },
  {
   "cell_type": "code",
   "execution_count": 6,
   "metadata": {},
   "outputs": [],
   "source": [
    "test = format_file(r'E:\\assignment\\test\\Assignment02\\data\\stock.txt')"
   ]
  },
  {
   "cell_type": "code",
   "execution_count": 7,
   "metadata": {},
   "outputs": [
    {
     "data": {
      "text/plain": [
       "{'88727858, dLrIrEaovi, Wellington Rd Clayton, VIC3168, (8.8, 14.2)': [['BY962504',\n",
       "   'zSyOgLqCHc',\n",
       "   '7',\n",
       "   '262',\n",
       "   '2422',\n",
       "   'RWD'],\n",
       "  ['MF852547', 'RYjEUsOSQa', '6', '193', '2640', 'AWD'],\n",
       "  ['ZK215141', 'TKdjbRaLvPi', '15', '248', '2708', 'AWD'],\n",
       "  ['MD735325', 'imGniJhZOMg', '14', '140', '2279', 'AWD']],\n",
       " '26849228, MnWpvvwwOu, Wellington Rd Clayton, VIC3168, (11.1, 13.4)': [['LN807267',\n",
       "   'pnXfiQAbaG',\n",
       "   '20',\n",
       "   '222',\n",
       "   '2180',\n",
       "   'RWD'],\n",
       "  ['DF763895', 'mQhDqmMAKmlxLeZmXeM', '20', '174', '2507', 'RWD'],\n",
       "  ['KX569985', 'fmTfzyROdCens', '20', '187', '1526', 'FWD'],\n",
       "  ['CI501910', 'lQZahqBaOKkeaA', '18', '220', '1743', 'FWD']],\n",
       " '97167616, KQTXjYQcOU, Clayton Rd Mount Waverley, VIC3170, (9.6, 16.5)': [['NT223476',\n",
       "   'WwatgvkdzAR',\n",
       "   '20',\n",
       "   '182',\n",
       "   '1566',\n",
       "   'RWD'],\n",
       "  ['QF455435', 'DuzxyJcwCV', '6', '145', '2800', 'AWD'],\n",
       "  ['LG061491', 'UxHUqMARNJN', '9', '169', '2360', 'RWDNone,kfhjlskdhfgj'],\n",
       "  ['City of Maroondah', 'VIC3135', '(8.8', '14.2)', '', '']],\n",
       " 'None,dbjkassad, Shire of Yarra Ranges, VIC3160, (11.1, 13.4), []': [['']]}"
      ]
     },
     "execution_count": 7,
     "metadata": {},
     "output_type": "execute_result"
    }
   ],
   "source": [
    "test"
   ]
  },
  {
   "cell_type": "code",
   "execution_count": 37,
   "metadata": {},
   "outputs": [],
   "source": [
    "data = {'88727858, dLrIrEaovi, Wellington Rd Clayton, VIC3168, (8.8, 14.2)': [['BY962504','zSyOgLqCHc','7','262','2422','RWD'],['MF852547', 'RYjEUsOSQa', '6', '193', '2640', 'AWD'],['ZK215141', 'TKdjbRaLvPi', '15', '248', '2708', 'AWD'],['MD735325', 'imGniJhZOMg', '14', '140', '2279', 'AWD']],\n",
    " '26849228, MnWpvvwwOu, Wellington Rd Clayton, VIC3168, (11.1, 13.4)': [['LN807267',\n",
    "   'pnXfiQAbaG',\n",
    "   '20',\n",
    "   '222',\n",
    "   '2180',\n",
    "   'RWD'],\n",
    "  ['DF763895', 'mQhDqmMAKmlxLeZmXeM', '20', '174', '2507', 'RWD'],\n",
    "  ['KX569985', 'fmTfzyROdCens', '20', '187', '1526', 'FWD'],\n",
    "  ['CI501910', 'lQZahqBaOKkeaA', '18', '220', '1743', 'FWD'],\n",
    "  ['CI501910', 'lQZahqBaOKkeaA', '18', '220', '1743', 'FWD']],\n",
    " '97167616, KQTXjYQcOU, Clayton Rd Mount Waverley, VIC3170, (9.6, 16.5)': [['NT223476',\n",
    "   'WwatgvkdzAR',\n",
    "   '20',\n",
    "   '182',\n",
    "   '1566',\n",
    "   'RWD'],\n",
    "  ['QF455435', 'DuzxyJcwCV', '6', '145', '2800', 'AWD'],\n",
    "  ['LG061491', 'UxHUqMARNJN', '9', '169', '2360', 'RWD']]}\n",
    "\n",
    "def update_stock_file(path: str, file_formatted: dict) -> None:\n",
    "    # Open a file for writing\n",
    "    with open(path, 'w') as file:\n",
    "        # Iterate over the dictionary and write each entry to the file\n",
    "        for key, value in file_formatted.items():\n",
    "            for entry in value:\n",
    "                entry[0] = f\"'{entry[0]}\"\n",
    "            # Convert the inner lists to a formatted string\n",
    "            formatted_entries = [', '.join(entry) for entry in value]\n",
    "            # Join the formatted entries into a single string\n",
    "            formatted_data = \"', \".join(formatted_entries)\n",
    "            # Write the formatted data to the file\n",
    "            file.write(f\"{key}, [{formatted_data}']\\n\")\n"
   ]
  },
  {
   "cell_type": "code",
   "execution_count": 9,
   "metadata": {},
   "outputs": [
    {
     "data": {
      "text/plain": [
       "0"
      ]
     },
     "execution_count": 9,
     "metadata": {},
     "output_type": "execute_result"
    }
   ],
   "source": [
    "arr = [1, 2, 3, 4, 5, 6, 7, 8, 9]\n",
    "arr.index(1)"
   ]
  },
  {
   "cell_type": "code",
   "execution_count": null,
   "metadata": {},
   "outputs": [],
   "source": [
    "print('a is', a, 'b is', b)\n",
    "print('a is {}, b is {}'.format(a, b))\n",
    "print(f'a is {a}, b is {b}')"
   ]
  }
 ],
 "metadata": {
  "kernelspec": {
   "display_name": "Python 3",
   "language": "python",
   "name": "python3"
  },
  "language_info": {
   "codemirror_mode": {
    "name": "ipython",
    "version": 3
   },
   "file_extension": ".py",
   "mimetype": "text/x-python",
   "name": "python",
   "nbconvert_exporter": "python",
   "pygments_lexer": "ipython3",
   "version": "3.10.7"
  },
  "orig_nbformat": 4
 },
 "nbformat": 4,
 "nbformat_minor": 2
}
